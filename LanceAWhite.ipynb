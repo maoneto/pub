{
 "cells": [
  {
   "cell_type": "markdown",
   "metadata": {},
   "source": [
    "<img src='Bonafide_logo_tagline.png' width='400'>"
   ]
  },
  {
   "cell_type": "markdown",
   "metadata": {},
   "source": [
    "<p style=\"text-align: center;\"><font size=\"8\"> Introducing Bonafide News</font></p>"
   ]
  },
  {
   "cell_type": "markdown",
   "metadata": {},
   "source": [
    "Dear Mr. White,\n",
    "\n",
    "I am writing to introduce you to our new startup, Bonafide News, headquartered in Denver, Colorado. We are developing a completely new experience for consumers to read and follow the news. Rather than just presenting a list of biased articles like every other news app, our user experience is made up of interactive, living timelines, on which our AI engine has placed the facts, corroborated across news and other sources.  We are innovating AI IP in a way unique to that of other apps, which we are currently calling \"context-narrative AI.\"  \n",
    "\n",
    "Rather than focusing on trying to recognize and eliminate fake news, or applying sentiment to categorize bias, we are taking a completely new path—understanding what information is and where this information should go in context within an ongoing story arc.  \n",
    "\n",
    "There are 2.4 billion smartphones on the planet, and we think our news app will be on the majority of them within 5 years. We believe this because existing news apps are homogenous and boring, and at present there is no existing place for consumers to follow a whole story across the news universe. There are only isolated and biased articles.   \n",
    "\n",
    "Our team has decades of experience in building startups and developing advanced technology to disrupt markets. We are excited at the prospect of renewing a popular app category with a unique user experience for consumers worldwide.   \n",
    "\n",
    "We are committed to finding the right financial partner who shares our vision for reinventing the news experience and our passion for solving the legendary problem of lack of faith in the news, and you look like a great fit. We have included our executive summary below for your review.\n",
    "\n",
    "If you would like to learn more about us, we would love to share our story with you in more detail. Shawn and I will be in San Francisco this coming week 1/14-1/16 for meetings.  Please let us know if there is interest and availability. \n",
    "\n",
    "We believe Bonafide can have a big impact on restoring faith in the news.  We hope you agree!\n",
    "\n",
    "\n",
    "Best,  \n",
    "Marguerite Oneto  \n",
    "CTO, Head of Product, Co-founder  \n",
    "Bonafide News  \n",
    "marguerite@bonafide.news  \n",
    "510.610.0153  \n"
   ]
  },
  {
   "cell_type": "markdown",
   "metadata": {},
   "source": [
    "<p style=\"text-align: center;\"><font size=\"5\"><b>Executive Summary</b></font></p>\n",
    "   \n",
    "### Overview  \n",
    "Today, user experiences across news apps are homogenized, boring, and virtually indistinguishable.\n",
    "News publishers generate articles driven by opinion, analysis, and bias, but not by the facts they\n",
    "contain. Nearly identical, these apps are lists of articles that are orphaned islands opining about a\n",
    "story. Users can read articles about a story from any news app, but they cannot easily follow the\n",
    "overall story itself across news sources. Bonafide News offers consumers a different and unique kind\n",
    "of user experience by ferreting out facts across news stories, and other sources, and turning them\n",
    "into artifacts on scrollable interactive timelines. Built on an AI engine incorporating the tenets of\n",
    "investigative journalism, Bonafide News creates the ultimate user experience to discover the nature\n",
    "of stories, to see where the information in stories originates, and to follow stories in context.   \n",
    "   \n",
    "### Opportunity  \n",
    "The problem is that no one trusts news. 58% of Americans feel like they always/often get conflicting\n",
    "information from different sources and 48% feel like it is very or somewhat difficult to know if\n",
    "information is true or not.¹ Existing news apps further exacerbate this problem by being generally\n",
    "biased. The solution is Bonafide News, a tireless AI investigative reporter, combing through thousands\n",
    "of news stories every day and arranging them in contexts along a timeline to unearth facts hidden\n",
    "behind the opinions. Users will be able to tap, swipe, and dig into the original artifacts of a topic and\n",
    "trace the ancestry of a story as it traverses various sources. Bonafide News will be the must have\n",
    "news app for the world’s 2.4B smartphone users, allowing consumers to review the facts and decide\n",
    "for themselves what is fake and what is real in order to form an independent opinion.   \n",
    "\n",
    "### Technology  \n",
    "Our AI engine takes the unstructured data of news and organizes it according to the principles of\n",
    "investigative journalism so that users can easily follow a narrative across the universe of news\n",
    "outlets. This requires the development of advanced IP in Natural Language Processing (NLP) to\n",
    "traverse the news corpus to define facts —a technology not available with existing NLP methods, or\n",
    "emerging research. Our innovative UX is being designed to present those facts and their context in a\n",
    "compelling and easily navigable way.  \n",
    "### Team   \n",
    "Shawn Patrick, CEO, Co-Founder - 30 years of Silicon Valley experience in building startups as a\n",
    "product visionary. Marguerite Oneto, CTO, Head of Product, Co-Founder - machine learning and data\n",
    "science expert, Master’s in Information and Data Science from UC Berkeley School of Information.  \n",
    "\n",
    "### Business Model  \n",
    "The app will be free to use, and revenue will be generated through subscriptions and advertising. As\n",
    "our timeline production tools mature, the company can develop enterprise subscription revenues.  \n",
    "\n",
    "### Financing\n",
    "Our target is $2 million in venture financing to build the Bonafide News app in time for the 2020 US\n",
    "election cycle. The use of proceeds will be focused on recruiting, building the first app to launch in\n",
    "Summer 2020, UX design and branding, and investment in our AI engine.   "
   ]
  },
  {
   "cell_type": "markdown",
   "metadata": {},
   "source": [
    "<p style=\"text-align: center;\"><font size=\"3\">Shawn Patrick | shawn@bonafide.news | 505-819-9786 | bonafide.news</font></p>\n",
    "  \n",
    "¹ Source : AP-NORC/USA Facts poll conducted October 15-28, 2019, with 1,032 adults"
   ]
  },
  {
   "cell_type": "code",
   "execution_count": null,
   "metadata": {},
   "outputs": [],
   "source": []
  }
 ],
 "metadata": {
  "kernelspec": {
   "display_name": "Python 3",
   "language": "python",
   "name": "python3"
  },
  "language_info": {
   "codemirror_mode": {
    "name": "ipython",
    "version": 3
   },
   "file_extension": ".py",
   "mimetype": "text/x-python",
   "name": "python",
   "nbconvert_exporter": "python",
   "pygments_lexer": "ipython3",
   "version": "3.7.5"
  }
 },
 "nbformat": 4,
 "nbformat_minor": 2
}
